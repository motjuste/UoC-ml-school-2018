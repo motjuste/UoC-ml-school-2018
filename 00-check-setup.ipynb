{
 "cells": [
  {
   "cell_type": "code",
   "execution_count": null,
   "metadata": {
    "ExecuteTime": {
     "end_time": "2018-09-26T15:18:08.789326Z",
     "start_time": "2018-09-26T15:18:08.329458Z"
    }
   },
   "outputs": [],
   "source": [
    "from pathlib import Path\n",
    "\n",
    "import utils\n",
    "import audioset"
   ]
  },
  {
   "cell_type": "code",
   "execution_count": null,
   "metadata": {
    "ExecuteTime": {
     "end_time": "2018-09-26T15:18:17.636399Z",
     "start_time": "2018-09-26T15:18:17.551470Z"
    }
   },
   "outputs": [],
   "source": [
    "DIR_MODELS = Path.cwd().joinpath(\"data\", \"models\")\n",
    "DIR_VGGISH_MODEL = DIR_MODELS.joinpath(\"vggish\")\n",
    "\n",
    "DIR_VGGISH_MODEL.mkdir(parents=True, exist_ok=False)\n",
    "\n",
    "print(DIR_MODELS, DIR_VGGISH_MODEL, sep='\\n')"
   ]
  },
  {
   "cell_type": "code",
   "execution_count": null,
   "metadata": {
    "ExecuteTime": {
     "end_time": "2018-09-26T13:26:40.859893Z",
     "start_time": "2018-09-26T13:26:35.940955Z"
    }
   },
   "outputs": [],
   "source": [
    "FP_VGGISH_MODEL = DIR_VGGISH_MODEL.joinpath(\"vggish_model.ckpt\")\n",
    "utils.download_file(\"https://storage.googleapis.com/audioset/vggish_model.ckpt\", FP_VGGISH_MODEL)"
   ]
  },
  {
   "cell_type": "code",
   "execution_count": null,
   "metadata": {
    "ExecuteTime": {
     "end_time": "2018-09-26T13:26:40.952779Z",
     "start_time": "2018-09-26T13:26:40.859893Z"
    }
   },
   "outputs": [],
   "source": [
    "FP_VGGISH_PCA_PARAMS = DIR_VGGISH_MODEL.joinpath(\"vggish_pca_params.npz\")\n",
    "utils.download_file(\"https://storage.googleapis.com/audioset/vggish_pca_params.npz\", FP_VGGISH_PCA_PARAMS)"
   ]
  },
  {
   "cell_type": "code",
   "execution_count": null,
   "metadata": {
    "ExecuteTime": {
     "end_time": "2018-09-26T13:40:22.955426Z",
     "start_time": "2018-09-26T13:40:21.016875Z"
    }
   },
   "outputs": [],
   "source": [
    "from audioset.vggish_smoke_test import *"
   ]
  },
  {
   "cell_type": "code",
   "execution_count": null,
   "metadata": {},
   "outputs": [],
   "source": []
  }
 ],
 "metadata": {
  "kernelspec": {
   "display_name": "Python [conda env:ml-school]",
   "language": "python",
   "name": "conda-env-ml-school-py"
  },
  "language_info": {
   "codemirror_mode": {
    "name": "ipython",
    "version": 3
   },
   "file_extension": ".py",
   "mimetype": "text/x-python",
   "name": "python",
   "nbconvert_exporter": "python",
   "pygments_lexer": "ipython3",
   "version": "3.6.6"
  }
 },
 "nbformat": 4,
 "nbformat_minor": 2
}
